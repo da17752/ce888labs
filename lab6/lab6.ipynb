{
 "cells": [
  {
   "cell_type": "code",
   "execution_count": null,
   "metadata": {},
   "outputs": [],
   "source": [
    "import pandas\n",
    "import numpy as np\n",
    "import pandas as pd\n",
    "\n",
    "#from __future__ import print_function\n",
    "\n",
    "from sklearn.datasets import make_blobs\n",
    "from sklearn.cluster import KMeans\n",
    "from sklearn.metrics import silhouette_score\n",
    "\n",
    "\n",
    "import matplotlib.pyplot as plt\n",
    "import matplotlib.cm as cm\n",
    "\n",
    "%matplotlib inline  \n",
    "import seaborn as sns"
   ]
  },
  {
   "cell_type": "code",
   "execution_count": null,
   "metadata": {},
   "outputs": [],
   "source": [
    "df = pd.read_csv(\"hUSCensus1990raw50K.csv.bz2\",compression = \"bz2\")"
   ]
  },
  {
   "cell_type": "code",
   "execution_count": null,
   "metadata": {},
   "outputs": [],
   "source": [
    "income_sum = df[[\"INCOME\" + str(i) for i in range(1,8)]].sum(axis = 1)\n",
    "\n",
    "df_demo = pd.DataFrame()\n",
    "\n",
    "df_demo1= df_demo\n",
    "df_demo[\"AGE\"] = df[[\"AAGE\"]].copy()\n",
    "df_demo[\"INCOME\"] = income_sum\n",
    "\n",
    "df_demo[\"YEARSCH\"] = df[[\"YEARSCH\"]].copy()\n",
    "df_demo[\"ENGLISH\"] = df[[\"ENGLISH\"]].copy()\n",
    "df_demo[\"FERTIL\"] = df[[\"FERTIL\"]].copy()\n",
    "df_demo[\"YRSSERV\"] = df[[\"YRSSERV\"]].copy()\n",
    "\n",
    "\n",
    "\n",
    "df_demo1 = df_demo"
   ]
  },
  {
   "cell_type": "code",
   "execution_count": null,
   "metadata": {},
   "outputs": [],
   "source": [
    "df_demo = pd.get_dummies(df_demo, columns = [\"ENGLISH\", \"FERTIL\" ] )\n"
   ]
  },
  {
   "cell_type": "code",
   "execution_count": null,
   "metadata": {
    "scrolled": true
   },
   "outputs": [],
   "source": [
    "sns.pairplot(df_demo1)"
   ]
  },
  {
   "cell_type": "code",
   "execution_count": null,
   "metadata": {},
   "outputs": [],
   "source": [
    "X = df_demo.values"
   ]
  },
  {
   "cell_type": "code",
   "execution_count": null,
   "metadata": {},
   "outputs": [],
   "source": [
    "from sklearn import metrics\n",
    "from sklearn.preprocessing import StandardScaler\n",
    "sc = StandardScaler()\n",
    "X_db = sc.fit_transform(X)\n",
    "print (X_db.shape)\n"
   ]
  },
  {
   "cell_type": "code",
   "execution_count": null,
   "metadata": {},
   "outputs": [],
   "source": [
    "for i in range(2,11): \n",
    "    clusterer = KMeans(n_clusters = i).fit(X_db)\n",
    "    labels = clusterer.predict(X_db)\n",
    "    print('Number of clusters: %d' % i)\n",
    "    score = metrics.silhouette_score(X_db, labels)\n",
    "    print(\"Silhouette Coefficient: %0.3f\"\n",
    "      % metrics.silhouette_score(X_db, labels))\n"
   ]
  },
  {
   "cell_type": "code",
   "execution_count": null,
   "metadata": {},
   "outputs": [],
   "source": [
    "n_clusters = 6\n",
    "\n",
    "clusterer = KMeans(n_clusters = n_clusters).fit(X_db)\n",
    "labels = clusterer.predict(X_db)\n",
    "\n",
    "\n",
    "\n",
    "print('Number of clusters: %d' % n_clusters)\n",
    "\n",
    "print(\"Silhouette Coefficient: %0.3f\"\n",
    "      % metrics.silhouette_score(X_db, labels))\n",
    "\n",
    "unique_labels = set(labels)\n",
    "colors = plt.cm.Spectral(np.linspace(0, 1, len(unique_labels)))\n",
    "for k, col in zip(unique_labels, colors):\n",
    "    if k == -1:\n",
    "        # Black used for noise.\n",
    "        col = 'k'\n",
    "\n",
    "    class_member_mask = (labels == k)\n",
    "\n",
    "    xy = X[class_member_mask]\n",
    "    plt.scatter(xy[:, 0], xy[:, 1],  c = col, edgecolor='k')\n",
    "\n",
    "    xy = X[class_member_mask]\n",
    "    plt.scatter(xy[:, 0], xy[:, 1],  c = col, edgecolor='k')\n",
    "\n",
    "plt.savefig('kmeans-23-%d.png'%(n_clusters), bbox_inches='tight')"
   ]
  },
  {
   "cell_type": "code",
   "execution_count": null,
   "metadata": {},
   "outputs": [],
   "source": [
    "from sklearn.cluster import AgglomerativeClustering"
   ]
  },
  {
   "cell_type": "code",
   "execution_count": null,
   "metadata": {},
   "outputs": [],
   "source": [
    "for i in range(2,11): \n",
    "    clusterer = KMeans(n_clusters = i).fit(X_db)\n",
    "    labels = AgglomerativeClustering(n_clusters=n_clusters).fit_predict(X_db) \n",
    "    print('Number of clusters: %d' % i)\n",
    "    score = metrics.silhouette_score(X_db, labels)\n",
    "    print(\"Silhouette Coefficient: %0.3f\"\n",
    "      % metrics.silhouette_score(X_db, labels))\n"
   ]
  },
  {
   "cell_type": "code",
   "execution_count": null,
   "metadata": {},
   "outputs": [],
   "source": [
    "n_clusters = 4\n",
    "\n",
    "clusterer = KMeans(n_clusters = n_clusters).fit(X_db)\n",
    "labels = clusterer.predict(X_db)\n",
    "\n",
    "\n",
    "\n",
    "print('Number of clusters: %d' % n_clusters)\n",
    "\n",
    "print(\"Silhouette Coefficient: %0.3f\"\n",
    "      % metrics.silhouette_score(X_db, labels))\n",
    "\n",
    "unique_labels = set(labels)\n",
    "colors = plt.cm.Spectral(np.linspace(0, 1, len(unique_labels)))\n",
    "for k, col in zip(unique_labels, colors):\n",
    "    if k == -1:\n",
    "        # Black used for noise.\n",
    "        col = 'k'\n",
    "\n",
    "    class_member_mask = (labels == k)\n",
    "\n",
    "    xy = X[class_member_mask]\n",
    "    plt.scatter(xy[:, 0], xy[:, 1],  c = col, edgecolor='k')\n",
    "\n",
    "    xy = X[class_member_mask]\n",
    "    plt.scatter(xy[:, 0], xy[:, 1],  c = col, edgecolor='k')\n",
    "\n",
    "plt.savefig('kmeans-23-%d.png'%(n_clusters), bbox_inches='tight')"
   ]
  },
  {
   "cell_type": "code",
   "execution_count": null,
   "metadata": {},
   "outputs": [],
   "source": []
  },
  {
   "cell_type": "code",
   "execution_count": null,
   "metadata": {},
   "outputs": [],
   "source": []
  }
 ],
 "metadata": {
  "kernelspec": {
   "display_name": "Python 3",
   "language": "python",
   "name": "python3"
  },
  "language_info": {
   "codemirror_mode": {
    "name": "ipython",
    "version": 3
   },
   "file_extension": ".py",
   "mimetype": "text/x-python",
   "name": "python",
   "nbconvert_exporter": "python",
   "pygments_lexer": "ipython3",
   "version": "3.5.2"
  }
 },
 "nbformat": 4,
 "nbformat_minor": 2
}
