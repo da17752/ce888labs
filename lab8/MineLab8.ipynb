{
 "cells": [
  {
   "cell_type": "code",
   "execution_count": 1,
   "metadata": {},
   "outputs": [
    {
     "name": "stderr",
     "output_type": "stream",
     "text": [
      "Using TensorFlow backend.\n",
      "/usr/local/lib/python3.5/dist-packages/keras/datasets/imdb.py:44: UserWarning: The `nb_words` argument in `load_data` has been renamed `num_words`.\n",
      "  warnings.warn('The `nb_words` argument in `load_data` '\n"
     ]
    },
    {
     "name": "stdout",
     "output_type": "stream",
     "text": [
      "Loading data...\n",
      "25000 train sequences\n",
      "25000 test sequences\n",
      "[1, 14, 22, 16, 43, 530, 973, 1622, 1385, 65, 458, 4468, 66, 3941, 4, 173, 36, 256, 5, 25, 100, 43, 838, 112, 50, 670, 2, 9, 35, 480, 284, 5, 150, 4, 172, 112, 167, 2, 336, 385, 39, 4, 172, 4536, 1111, 17, 546, 38, 13, 447, 4, 192, 50, 16, 6, 147, 2025, 19, 14, 22, 4, 1920, 4613, 469, 4, 22, 71, 87, 12, 16, 43, 530, 38, 76, 15, 13, 1247, 4, 22, 17, 515, 17, 12, 16, 626, 18, 19193, 5, 62, 386, 12, 8, 316, 8, 106, 5, 4, 2223, 5244, 16, 480, 66, 3785, 33, 4, 130, 12, 16, 38, 619, 5, 25, 124, 51, 36, 135, 48, 25, 1415, 33, 6, 22, 12, 215, 28, 77, 52, 5, 14, 407, 16, 82, 10311, 8, 4, 107, 117, 5952, 15, 256, 4, 2, 7, 3766, 5, 723, 36, 71, 43, 530, 476, 26, 400, 317, 46, 7, 4, 12118, 1029, 13, 104, 88, 4, 381, 15, 297, 98, 32, 2071, 56, 26, 141, 6, 194, 7486, 18, 4, 226, 22, 21, 134, 476, 26, 480, 5, 144, 30, 5535, 18, 51, 36, 28, 224, 92, 25, 104, 4, 226, 65, 16, 38, 1334, 88, 12, 16, 283, 5, 16, 4472, 113, 103, 32, 15, 16, 5345, 19, 178, 32]\n",
      "Pad sequences (samples x time)\n",
      "X_train shape: (25000, 80)\n",
      "X_test shape: (25000, 80)\n",
      "Build model...\n",
      "Train...\n"
     ]
    },
    {
     "name": "stderr",
     "output_type": "stream",
     "text": [
      "/usr/local/lib/python3.5/dist-packages/ipykernel_launcher.py:34: UserWarning: The `dropout` argument is no longer support in `Embedding`. You can apply a `keras.layers.SpatialDropout1D` layer right after the `Embedding` layer to get the same behavior.\n",
      "/usr/local/lib/python3.5/dist-packages/ipykernel_launcher.py:40: UserWarning: Update your `Model` call to the Keras 2 API: `Model(outputs=Tensor(\"ac..., inputs=Tensor(\"in...)`\n",
      "/usr/local/lib/python3.5/dist-packages/ipykernel_launcher.py:47: UserWarning: The `nb_epoch` argument in `fit` has been renamed `epochs`.\n"
     ]
    },
    {
     "name": "stdout",
     "output_type": "stream",
     "text": [
      "Train on 25000 samples, validate on 25000 samples\n",
      "Epoch 1/15\n",
      "25000/25000 [==============================] - 30s 1ms/step - loss: 0.4512 - acc: 0.7860 - val_loss: 0.3522 - val_acc: 0.8416\n",
      "Epoch 2/15\n",
      "25000/25000 [==============================] - 30s 1ms/step - loss: 0.1753 - acc: 0.9382 - val_loss: 0.3663 - val_acc: 0.8400\n",
      "Epoch 3/15\n",
      "25000/25000 [==============================] - 30s 1ms/step - loss: 0.0361 - acc: 0.9962 - val_loss: 0.4075 - val_acc: 0.8378\n",
      "Epoch 4/15\n",
      "25000/25000 [==============================] - 28s 1ms/step - loss: 0.0083 - acc: 0.9998 - val_loss: 0.4373 - val_acc: 0.8397\n",
      "Epoch 5/15\n",
      "25000/25000 [==============================] - 29s 1ms/step - loss: 0.0035 - acc: 1.0000 - val_loss: 0.4658 - val_acc: 0.8401\n",
      "Epoch 6/15\n",
      "25000/25000 [==============================] - 29s 1ms/step - loss: 0.0017 - acc: 1.0000 - val_loss: 0.4905 - val_acc: 0.8402\n",
      "Epoch 7/15\n",
      "25000/25000 [==============================] - 29s 1ms/step - loss: 9.7065e-04 - acc: 1.0000 - val_loss: 0.5144 - val_acc: 0.8396\n",
      "Epoch 8/15\n",
      "25000/25000 [==============================] - 29s 1ms/step - loss: 5.8970e-04 - acc: 1.0000 - val_loss: 0.5377 - val_acc: 0.8388\n",
      "Epoch 9/15\n",
      "25000/25000 [==============================] - 29s 1ms/step - loss: 3.5070e-04 - acc: 1.0000 - val_loss: 0.5596 - val_acc: 0.8389\n",
      "Epoch 10/15\n",
      "25000/25000 [==============================] - 29s 1ms/step - loss: 2.1712e-04 - acc: 1.0000 - val_loss: 0.5817 - val_acc: 0.8389\n",
      "Epoch 11/15\n",
      "25000/25000 [==============================] - 29s 1ms/step - loss: 1.3653e-04 - acc: 1.0000 - val_loss: 0.6032 - val_acc: 0.8384\n",
      "Epoch 12/15\n",
      "25000/25000 [==============================] - 30s 1ms/step - loss: 8.6655e-05 - acc: 1.0000 - val_loss: 0.6247 - val_acc: 0.8387\n",
      "Epoch 13/15\n",
      "25000/25000 [==============================] - 29s 1ms/step - loss: 5.5182e-05 - acc: 1.0000 - val_loss: 0.6454 - val_acc: 0.8381\n",
      "Epoch 14/15\n",
      "25000/25000 [==============================] - 30s 1ms/step - loss: 3.5368e-05 - acc: 1.0000 - val_loss: 0.6670 - val_acc: 0.8375\n",
      "Epoch 15/15\n",
      "25000/25000 [==============================] - 30s 1ms/step - loss: 2.2814e-05 - acc: 1.0000 - val_loss: 0.6872 - val_acc: 0.8366\n",
      "25000/25000 [==============================] - 1s 44us/step\n",
      "Test score: 0.6872435140609742\n",
      "Test accuracy: 0.8366\n"
     ]
    }
   ],
   "source": [
    "\n",
    "from __future__ import print_function\n",
    "import tensorflow as tf\n",
    "import numpy as np\n",
    "np.random.seed(1337)  # for reproducibility\n",
    "\n",
    "from keras.preprocessing import sequence\n",
    "from keras.models import Model\n",
    "from keras.layers import Dense, Activation, Embedding, Flatten, Input\n",
    "from keras.datasets import imdb\n",
    "\n",
    "max_features = 20000\n",
    "maxlen = 80  # cut texts after this number of words (among top max_features most common words)\n",
    "batch_size = 32\n",
    "\n",
    "print('Loading data...')\n",
    "(X_train, y_train), (X_test, y_test) = imdb.load_data(nb_words=max_features)\n",
    "print(len(X_train), 'train sequences')\n",
    "print(len(X_test), 'test sequences')\n",
    "\n",
    "print (X_train[0])\n",
    "\n",
    "print('Pad sequences (samples x time)')\n",
    "X_train = sequence.pad_sequences(X_train, maxlen=maxlen)\n",
    "X_test = sequence.pad_sequences(X_test, maxlen=maxlen)\n",
    "print('X_train shape:', X_train.shape)\n",
    "print('X_test shape:', X_test.shape)\n",
    "\n",
    "print('Build model...')\n",
    "\n",
    "\n",
    "inputs = Input(shape=(maxlen,))\n",
    "x = inputs\n",
    "x = Embedding(max_features, 128, dropout=0.2)(x)\n",
    "x = Flatten()(x)\n",
    "x = Dense(1)(x)\n",
    "predictions = Activation(\"sigmoid\")(x)\n",
    "\n",
    "\n",
    "model = Model(input=inputs, output=predictions)\n",
    "model.compile(loss='binary_crossentropy',\n",
    "              optimizer='adam',\n",
    "              metrics=['accuracy'])\n",
    "\n",
    "print('Train...')\n",
    "model.fit(X_train, y_train, batch_size=batch_size, nb_epoch=15,\n",
    "          validation_data=(X_test, y_test))\n",
    "score, acc = model.evaluate(X_test, y_test,\n",
    "                            batch_size=batch_size)\n",
    "print('Test score:', score)\n",
    "print('Test accuracy:', acc)"
   ]
  },
  {
   "cell_type": "code",
   "execution_count": 2,
   "metadata": {},
   "outputs": [
    {
     "name": "stdout",
     "output_type": "stream",
     "text": [
      "Loading data...\n"
     ]
    },
    {
     "name": "stderr",
     "output_type": "stream",
     "text": [
      "/usr/local/lib/python3.5/dist-packages/keras/datasets/imdb.py:44: UserWarning: The `nb_words` argument in `load_data` has been renamed `num_words`.\n",
      "  warnings.warn('The `nb_words` argument in `load_data` '\n"
     ]
    },
    {
     "name": "stdout",
     "output_type": "stream",
     "text": [
      "25000 train sequences\n",
      "25000 test sequences\n",
      "[1, 14, 22, 16, 43, 530, 973, 1622, 1385, 65, 458, 4468, 66, 3941, 4, 173, 36, 256, 5, 25, 100, 43, 838, 112, 50, 670, 2, 9, 35, 480, 284, 5, 150, 4, 172, 112, 167, 2, 336, 385, 39, 4, 172, 4536, 1111, 17, 546, 38, 13, 447, 4, 192, 50, 16, 6, 147, 2025, 19, 14, 22, 4, 1920, 4613, 469, 4, 22, 71, 87, 12, 16, 43, 530, 38, 76, 15, 13, 1247, 4, 22, 17, 515, 17, 12, 16, 626, 18, 19193, 5, 62, 386, 12, 8, 316, 8, 106, 5, 4, 2223, 5244, 16, 480, 66, 3785, 33, 4, 130, 12, 16, 38, 619, 5, 25, 124, 51, 36, 135, 48, 25, 1415, 33, 6, 22, 12, 215, 28, 77, 52, 5, 14, 407, 16, 82, 10311, 8, 4, 107, 117, 5952, 15, 256, 4, 2, 7, 3766, 5, 723, 36, 71, 43, 530, 476, 26, 400, 317, 46, 7, 4, 12118, 1029, 13, 104, 88, 4, 381, 15, 297, 98, 32, 2071, 56, 26, 141, 6, 194, 7486, 18, 4, 226, 22, 21, 134, 476, 26, 480, 5, 144, 30, 5535, 18, 51, 36, 28, 224, 92, 25, 104, 4, 226, 65, 16, 38, 1334, 88, 12, 16, 283, 5, 16, 4472, 113, 103, 32, 15, 16, 5345, 19, 178, 32]\n",
      "Pad sequences (samples x time)\n",
      "X_train shape: (25000, 80)\n",
      "X_test shape: (25000, 80)\n",
      "Build model...\n",
      "Train...\n"
     ]
    },
    {
     "name": "stderr",
     "output_type": "stream",
     "text": [
      "/usr/local/lib/python3.5/dist-packages/ipykernel_launcher.py:19: UserWarning: The `dropout` argument is no longer support in `Embedding`. You can apply a `keras.layers.SpatialDropout1D` layer right after the `Embedding` layer to get the same behavior.\n",
      "/usr/local/lib/python3.5/dist-packages/ipykernel_launcher.py:26: UserWarning: Update your `Model` call to the Keras 2 API: `Model(outputs=Tensor(\"ac..., inputs=Tensor(\"in...)`\n",
      "/usr/local/lib/python3.5/dist-packages/ipykernel_launcher.py:33: UserWarning: The `nb_epoch` argument in `fit` has been renamed `epochs`.\n"
     ]
    },
    {
     "name": "stdout",
     "output_type": "stream",
     "text": [
      "Train on 25000 samples, validate on 25000 samples\n",
      "Epoch 1/15\n",
      "25000/25000 [==============================] - 29s 1ms/step - loss: 0.4512 - acc: 0.7860 - val_loss: 0.3521 - val_acc: 0.8417\n",
      "Epoch 2/15\n",
      "25000/25000 [==============================] - 29s 1ms/step - loss: 0.1753 - acc: 0.9382 - val_loss: 0.3663 - val_acc: 0.8399\n",
      "Epoch 3/15\n",
      "25000/25000 [==============================] - 29s 1ms/step - loss: 0.0361 - acc: 0.9962 - val_loss: 0.4075 - val_acc: 0.8376\n",
      "Epoch 4/15\n",
      "25000/25000 [==============================] - 29s 1ms/step - loss: 0.0083 - acc: 0.9998 - val_loss: 0.4373 - val_acc: 0.8398\n",
      "Epoch 5/15\n",
      "25000/25000 [==============================] - 29s 1ms/step - loss: 0.0035 - acc: 1.0000 - val_loss: 0.4658 - val_acc: 0.8401\n",
      "Epoch 6/15\n",
      "25000/25000 [==============================] - 29s 1ms/step - loss: 0.0017 - acc: 1.0000 - val_loss: 0.4905 - val_acc: 0.8400\n",
      "Epoch 7/15\n",
      "25000/25000 [==============================] - 29s 1ms/step - loss: 9.7034e-04 - acc: 1.0000 - val_loss: 0.5144 - val_acc: 0.8396\n",
      "Epoch 8/15\n",
      "25000/25000 [==============================] - 29s 1ms/step - loss: 5.8952e-04 - acc: 1.0000 - val_loss: 0.5377 - val_acc: 0.8388\n",
      "Epoch 9/15\n",
      "25000/25000 [==============================] - 29s 1ms/step - loss: 3.5059e-04 - acc: 1.0000 - val_loss: 0.5596 - val_acc: 0.8387\n",
      "Epoch 10/15\n",
      "25000/25000 [==============================] - 29s 1ms/step - loss: 2.1706e-04 - acc: 1.0000 - val_loss: 0.5817 - val_acc: 0.8390\n",
      "Epoch 11/15\n",
      "25000/25000 [==============================] - 29s 1ms/step - loss: 1.3649e-04 - acc: 1.0000 - val_loss: 0.6032 - val_acc: 0.8384\n",
      "Epoch 12/15\n",
      "25000/25000 [==============================] - 29s 1ms/step - loss: 8.6629e-05 - acc: 1.0000 - val_loss: 0.6247 - val_acc: 0.8388\n",
      "Epoch 13/15\n",
      "25000/25000 [==============================] - 29s 1ms/step - loss: 5.5165e-05 - acc: 1.0000 - val_loss: 0.6454 - val_acc: 0.8383\n",
      "Epoch 14/15\n",
      "25000/25000 [==============================] - 29s 1ms/step - loss: 3.5358e-05 - acc: 1.0000 - val_loss: 0.6670 - val_acc: 0.8375\n",
      "Epoch 15/15\n",
      "25000/25000 [==============================] - 29s 1ms/step - loss: 2.2807e-05 - acc: 1.0000 - val_loss: 0.6873 - val_acc: 0.8367\n",
      "25000/25000 [==============================] - 1s 44us/step\n",
      "Test score: 0.6872543226110935\n",
      "Test accuracy: 0.83668\n"
     ]
    }
   ],
   "source": [
    "print('Loading data...')\n",
    "(X_train, y_train), (X_test, y_test) = imdb.load_data(nb_words=max_features)\n",
    "print(len(X_train), 'train sequences')\n",
    "print(len(X_test), 'test sequences')\n",
    "\n",
    "print (X_train[0])\n",
    "\n",
    "print('Pad sequences (samples x time)')\n",
    "X_train = sequence.pad_sequences(X_train, maxlen=maxlen)\n",
    "X_test = sequence.pad_sequences(X_test, maxlen=maxlen)\n",
    "print('X_train shape:', X_train.shape)\n",
    "print('X_test shape:', X_test.shape)\n",
    "\n",
    "print('Build model...')\n",
    "\n",
    "\n",
    "inputs = Input(shape=(maxlen,))\n",
    "x = inputs\n",
    "x = Embedding(max_features, 128, dropout=0.2)(x)\n",
    "dense = tf.layers.dense(inputs=x, units=64, activation=tf.nn.relu)\n",
    "x = Flatten()(x)\n",
    "x = Dense(1)(x)\n",
    "predictions = Activation(\"sigmoid\")(x)\n",
    "\n",
    "\n",
    "model = Model(input=inputs, output=predictions)\n",
    "model.compile(loss='binary_crossentropy',\n",
    "              optimizer='adam',\n",
    "              metrics=['accuracy'])\n",
    "\n",
    "print('Train...')\n",
    "model.fit(X_train, y_train, batch_size=batch_size, nb_epoch=15,\n",
    "          validation_data=(X_test, y_test))\n",
    "score, acc = model.evaluate(X_test, y_test,\n",
    "                            batch_size=batch_size)\n",
    "print('Test score:', score)\n",
    "print('Test accuracy:', acc)"
   ]
  },
  {
   "cell_type": "code",
   "execution_count": 3,
   "metadata": {},
   "outputs": [
    {
     "name": "stdout",
     "output_type": "stream",
     "text": [
      "Loading data...\n"
     ]
    },
    {
     "name": "stderr",
     "output_type": "stream",
     "text": [
      "/usr/local/lib/python3.5/dist-packages/keras/datasets/imdb.py:44: UserWarning: The `nb_words` argument in `load_data` has been renamed `num_words`.\n",
      "  warnings.warn('The `nb_words` argument in `load_data` '\n"
     ]
    },
    {
     "name": "stdout",
     "output_type": "stream",
     "text": [
      "25000 train sequences\n",
      "25000 test sequences\n",
      "[1, 14, 22, 16, 43, 530, 973, 1622, 1385, 65, 458, 4468, 66, 3941, 4, 173, 36, 256, 5, 25, 100, 43, 838, 112, 50, 670, 2, 9, 35, 480, 284, 5, 150, 4, 172, 112, 167, 2, 336, 385, 39, 4, 172, 4536, 1111, 17, 546, 38, 13, 447, 4, 192, 50, 16, 6, 147, 2025, 19, 14, 22, 4, 1920, 4613, 469, 4, 22, 71, 87, 12, 16, 43, 530, 38, 76, 15, 13, 1247, 4, 22, 17, 515, 17, 12, 16, 626, 18, 19193, 5, 62, 386, 12, 8, 316, 8, 106, 5, 4, 2223, 5244, 16, 480, 66, 3785, 33, 4, 130, 12, 16, 38, 619, 5, 25, 124, 51, 36, 135, 48, 25, 1415, 33, 6, 22, 12, 215, 28, 77, 52, 5, 14, 407, 16, 82, 10311, 8, 4, 107, 117, 5952, 15, 256, 4, 2, 7, 3766, 5, 723, 36, 71, 43, 530, 476, 26, 400, 317, 46, 7, 4, 12118, 1029, 13, 104, 88, 4, 381, 15, 297, 98, 32, 2071, 56, 26, 141, 6, 194, 7486, 18, 4, 226, 22, 21, 134, 476, 26, 480, 5, 144, 30, 5535, 18, 51, 36, 28, 224, 92, 25, 104, 4, 226, 65, 16, 38, 1334, 88, 12, 16, 283, 5, 16, 4472, 113, 103, 32, 15, 16, 5345, 19, 178, 32]\n",
      "Pad sequences (samples x time)\n",
      "X_train shape: (25000, 80)\n",
      "X_test shape: (25000, 80)\n",
      "Build model...\n",
      "Train...\n"
     ]
    },
    {
     "name": "stderr",
     "output_type": "stream",
     "text": [
      "/usr/local/lib/python3.5/dist-packages/ipykernel_launcher.py:19: UserWarning: The `dropout` argument is no longer support in `Embedding`. You can apply a `keras.layers.SpatialDropout1D` layer right after the `Embedding` layer to get the same behavior.\n",
      "/usr/local/lib/python3.5/dist-packages/ipykernel_launcher.py:27: UserWarning: Update your `Model` call to the Keras 2 API: `Model(outputs=Tensor(\"ac..., inputs=Tensor(\"in...)`\n",
      "/usr/local/lib/python3.5/dist-packages/ipykernel_launcher.py:34: UserWarning: The `nb_epoch` argument in `fit` has been renamed `epochs`.\n"
     ]
    },
    {
     "name": "stdout",
     "output_type": "stream",
     "text": [
      "Train on 25000 samples, validate on 25000 samples\n",
      "Epoch 1/15\n",
      "25000/25000 [==============================] - 30s 1ms/step - loss: 0.4512 - acc: 0.7858 - val_loss: 0.3522 - val_acc: 0.8418\n",
      "Epoch 2/15\n",
      "25000/25000 [==============================] - 30s 1ms/step - loss: 0.1754 - acc: 0.9382 - val_loss: 0.3662 - val_acc: 0.8398\n",
      "Epoch 3/15\n",
      "25000/25000 [==============================] - 29s 1ms/step - loss: 0.0361 - acc: 0.9962 - val_loss: 0.4075 - val_acc: 0.8378\n",
      "Epoch 4/15\n",
      "25000/25000 [==============================] - 29s 1ms/step - loss: 0.0084 - acc: 0.9998 - val_loss: 0.4373 - val_acc: 0.8396\n",
      "Epoch 5/15\n",
      "25000/25000 [==============================] - 29s 1ms/step - loss: 0.0035 - acc: 1.0000 - val_loss: 0.4658 - val_acc: 0.8402\n",
      "Epoch 6/15\n",
      "25000/25000 [==============================] - 29s 1ms/step - loss: 0.0017 - acc: 1.0000 - val_loss: 0.4905 - val_acc: 0.8401\n",
      "Epoch 7/15\n",
      "25000/25000 [==============================] - 29s 1ms/step - loss: 9.7155e-04 - acc: 1.0000 - val_loss: 0.5144 - val_acc: 0.8396\n",
      "Epoch 8/15\n",
      "25000/25000 [==============================] - 30s 1ms/step - loss: 5.9020e-04 - acc: 1.0000 - val_loss: 0.5377 - val_acc: 0.8388\n",
      "Epoch 9/15\n",
      "25000/25000 [==============================] - 30s 1ms/step - loss: 3.5101e-04 - acc: 1.0000 - val_loss: 0.5596 - val_acc: 0.8386\n",
      "Epoch 10/15\n",
      "25000/25000 [==============================] - 30s 1ms/step - loss: 2.1731e-04 - acc: 1.0000 - val_loss: 0.5817 - val_acc: 0.8389\n",
      "Epoch 11/15\n",
      "25000/25000 [==============================] - 30s 1ms/step - loss: 1.3664e-04 - acc: 1.0000 - val_loss: 0.6032 - val_acc: 0.8383\n",
      "Epoch 12/15\n",
      "25000/25000 [==============================] - 30s 1ms/step - loss: 8.6727e-05 - acc: 1.0000 - val_loss: 0.6247 - val_acc: 0.8386\n",
      "Epoch 13/15\n",
      "25000/25000 [==============================] - 30s 1ms/step - loss: 5.5227e-05 - acc: 1.0000 - val_loss: 0.6454 - val_acc: 0.8382\n",
      "Epoch 14/15\n",
      "25000/25000 [==============================] - 30s 1ms/step - loss: 3.5397e-05 - acc: 1.0000 - val_loss: 0.6670 - val_acc: 0.8376\n",
      "Epoch 15/15\n",
      "25000/25000 [==============================] - 30s 1ms/step - loss: 2.2832e-05 - acc: 1.0000 - val_loss: 0.6873 - val_acc: 0.8366\n",
      "25000/25000 [==============================] - 1s 51us/step\n",
      "Test score: 0.6872557045829296\n",
      "Test accuracy: 0.83664\n"
     ]
    }
   ],
   "source": [
    "print('Loading data...')\n",
    "(X_train, y_train), (X_test, y_test) = imdb.load_data(nb_words=max_features)\n",
    "print(len(X_train), 'train sequences')\n",
    "print(len(X_test), 'test sequences')\n",
    "\n",
    "print (X_train[0])\n",
    "\n",
    "print('Pad sequences (samples x time)')\n",
    "X_train = sequence.pad_sequences(X_train, maxlen=maxlen)\n",
    "X_test = sequence.pad_sequences(X_test, maxlen=maxlen)\n",
    "print('X_train shape:', X_train.shape)\n",
    "print('X_test shape:', X_test.shape)\n",
    "\n",
    "print('Build model...')\n",
    "\n",
    "\n",
    "inputs = Input(shape=(maxlen,))\n",
    "x = inputs\n",
    "x = Embedding(max_features, 128, dropout=0.2)(x)\n",
    "dense = tf.layers.dense(inputs=x, units=64, activation=tf.nn.relu)\n",
    "dropout = tf.layers.dropout(inputs=dense, rate=0.5, noise_shape=None, training=False, name=None)\n",
    "x = Flatten()(x)\n",
    "x = Dense(1)(x)\n",
    "predictions = Activation(\"sigmoid\")(x)\n",
    "\n",
    "\n",
    "model = Model(input=inputs, output=predictions)\n",
    "model.compile(loss='binary_crossentropy',\n",
    "              optimizer='adam',\n",
    "              metrics=['accuracy'])\n",
    "\n",
    "print('Train...')\n",
    "model.fit(X_train, y_train, batch_size=batch_size, nb_epoch=15,\n",
    "          validation_data=(X_test, y_test))\n",
    "score, acc = model.evaluate(X_test, y_test,\n",
    "                            batch_size=batch_size)\n",
    "print('Test score:', score)\n",
    "print('Test accuracy:', acc)"
   ]
  },
  {
   "cell_type": "code",
   "execution_count": 18,
   "metadata": {},
   "outputs": [
    {
     "name": "stdout",
     "output_type": "stream",
     "text": [
      "Loading data...\n"
     ]
    },
    {
     "name": "stderr",
     "output_type": "stream",
     "text": [
      "/usr/local/lib/python3.5/dist-packages/keras/datasets/imdb.py:44: UserWarning: The `nb_words` argument in `load_data` has been renamed `num_words`.\n",
      "  warnings.warn('The `nb_words` argument in `load_data` '\n"
     ]
    },
    {
     "name": "stdout",
     "output_type": "stream",
     "text": [
      "25000 train sequences\n",
      "25000 test sequences\n",
      "[1, 14, 22, 16, 43, 530, 973, 1622, 1385, 65, 458, 4468, 66, 3941, 4, 173, 36, 256, 5, 25, 100, 43, 838, 112, 50, 670, 2, 9, 35, 480, 284, 5, 150, 4, 172, 112, 167, 2, 336, 385, 39, 4, 172, 4536, 1111, 17, 546, 38, 13, 447, 4, 192, 50, 16, 6, 147, 2025, 19, 14, 22, 4, 1920, 4613, 469, 4, 22, 71, 87, 12, 16, 43, 530, 38, 76, 15, 13, 1247, 4, 22, 17, 515, 17, 12, 16, 626, 18, 19193, 5, 62, 386, 12, 8, 316, 8, 106, 5, 4, 2223, 5244, 16, 480, 66, 3785, 33, 4, 130, 12, 16, 38, 619, 5, 25, 124, 51, 36, 135, 48, 25, 1415, 33, 6, 22, 12, 215, 28, 77, 52, 5, 14, 407, 16, 82, 10311, 8, 4, 107, 117, 5952, 15, 256, 4, 2, 7, 3766, 5, 723, 36, 71, 43, 530, 476, 26, 400, 317, 46, 7, 4, 12118, 1029, 13, 104, 88, 4, 381, 15, 297, 98, 32, 2071, 56, 26, 141, 6, 194, 7486, 18, 4, 226, 22, 21, 134, 476, 26, 480, 5, 144, 30, 5535, 18, 51, 36, 28, 224, 92, 25, 104, 4, 226, 65, 16, 38, 1334, 88, 12, 16, 283, 5, 16, 4472, 113, 103, 32, 15, 16, 5345, 19, 178, 32]\n",
      "Pad sequences (samples x time)\n",
      "X_train shape: (25000, 80)\n",
      "X_test shape: (25000, 80)\n",
      "Build model...\n",
      "Train...\n"
     ]
    },
    {
     "name": "stderr",
     "output_type": "stream",
     "text": [
      "/usr/local/lib/python3.5/dist-packages/ipykernel_launcher.py:19: UserWarning: The `dropout` argument is no longer support in `Embedding`. You can apply a `keras.layers.SpatialDropout1D` layer right after the `Embedding` layer to get the same behavior.\n",
      "/usr/local/lib/python3.5/dist-packages/ipykernel_launcher.py:26: UserWarning: Update your `Model` call to the Keras 2 API: `Model(outputs=Tensor(\"ac..., inputs=Tensor(\"in...)`\n",
      "/usr/local/lib/python3.5/dist-packages/ipykernel_launcher.py:33: UserWarning: The `nb_epoch` argument in `fit` has been renamed `epochs`.\n"
     ]
    },
    {
     "name": "stdout",
     "output_type": "stream",
     "text": [
      "Train on 25000 samples, validate on 25000 samples\n",
      "Epoch 1/15\n",
      "25000/25000 [==============================] - 29s 1ms/step - loss: 0.4512 - acc: 0.7860 - val_loss: 0.3522 - val_acc: 0.8417\n",
      "Epoch 2/15\n",
      "25000/25000 [==============================] - 28s 1ms/step - loss: 0.1753 - acc: 0.9381 - val_loss: 0.3663 - val_acc: 0.8397\n",
      "Epoch 3/15\n",
      "25000/25000 [==============================] - 22s 871us/step - loss: 0.0361 - acc: 0.9962 - val_loss: 0.4076 - val_acc: 0.8378\n",
      "Epoch 4/15\n",
      "25000/25000 [==============================] - 22s 861us/step - loss: 0.0083 - acc: 0.9998 - val_loss: 0.4374 - val_acc: 0.8396\n",
      "Epoch 5/15\n",
      "25000/25000 [==============================] - 22s 862us/step - loss: 0.0035 - acc: 1.0000 - val_loss: 0.4659 - val_acc: 0.8400\n",
      "Epoch 6/15\n",
      "25000/25000 [==============================] - 24s 953us/step - loss: 0.0017 - acc: 1.0000 - val_loss: 0.4906 - val_acc: 0.8401\n",
      "Epoch 7/15\n",
      "25000/25000 [==============================] - 27s 1ms/step - loss: 9.7139e-04 - acc: 1.0000 - val_loss: 0.5144 - val_acc: 0.8394\n",
      "Epoch 8/15\n",
      "25000/25000 [==============================] - 24s 965us/step - loss: 5.9015e-04 - acc: 1.0000 - val_loss: 0.5378 - val_acc: 0.8389\n",
      "Epoch 9/15\n",
      "25000/25000 [==============================] - 24s 976us/step - loss: 3.5096e-04 - acc: 1.0000 - val_loss: 0.5597 - val_acc: 0.8386\n",
      "Epoch 10/15\n",
      "25000/25000 [==============================] - 28s 1ms/step - loss: 2.1728e-04 - acc: 1.0000 - val_loss: 0.5818 - val_acc: 0.8390\n",
      "Epoch 11/15\n",
      "25000/25000 [==============================] - 29s 1ms/step - loss: 1.3662e-04 - acc: 1.0000 - val_loss: 0.6033 - val_acc: 0.8385\n",
      "Epoch 12/15\n",
      "25000/25000 [==============================] - 30s 1ms/step - loss: 8.6714e-05 - acc: 1.0000 - val_loss: 0.6248 - val_acc: 0.8388\n",
      "Epoch 13/15\n",
      "25000/25000 [==============================] - 26s 1ms/step - loss: 5.5219e-05 - acc: 1.0000 - val_loss: 0.6455 - val_acc: 0.8382\n",
      "Epoch 14/15\n",
      "25000/25000 [==============================] - 23s 918us/step - loss: 3.5392e-05 - acc: 1.0000 - val_loss: 0.6672 - val_acc: 0.8377\n",
      "Epoch 15/15\n",
      "25000/25000 [==============================] - 28s 1ms/step - loss: 2.2829e-05 - acc: 1.0000 - val_loss: 0.6874 - val_acc: 0.8368\n",
      "25000/25000 [==============================] - 1s 44us/step\n",
      "Test score: 0.6874061021876335\n",
      "Test accuracy: 0.83676\n"
     ]
    }
   ],
   "source": [
    "print('Loading data...')\n",
    "(X_train, y_train), (X_test, y_test) = imdb.load_data(nb_words=max_features)\n",
    "print(len(X_train), 'train sequences')\n",
    "print(len(X_test), 'test sequences')\n",
    "\n",
    "print (X_train[0])\n",
    "\n",
    "print('Pad sequences (samples x time)')\n",
    "X_train = sequence.pad_sequences(X_train, maxlen=maxlen)\n",
    "X_test = sequence.pad_sequences(X_test, maxlen=maxlen)\n",
    "print('X_train shape:', X_train.shape)\n",
    "print('X_test shape:', X_test.shape)\n",
    "\n",
    "print('Build model...')\n",
    "\n",
    "\n",
    "inputs = Input(shape=(maxlen,))\n",
    "x = inputs\n",
    "x = Embedding(max_features, 128, dropout=0.2)(x)\n",
    "conv = tf.layers.conv1d(inputs=x, filters=32, kernel_size=[3], padding=\"same\", activation=tf.nn.relu)\n",
    "x = Flatten()(x)\n",
    "x = Dense(1)(x)\n",
    "predictions = Activation(\"sigmoid\")(x)\n",
    "\n",
    "\n",
    "model = Model(input=inputs, output=predictions)\n",
    "model.compile(loss='binary_crossentropy',\n",
    "              optimizer='adam',\n",
    "              metrics=['accuracy'])\n",
    "\n",
    "print('Train...')\n",
    "model.fit(X_train, y_train, batch_size=batch_size, nb_epoch=15,\n",
    "          validation_data=(X_test, y_test))\n",
    "score, acc = model.evaluate(X_test, y_test,\n",
    "                            batch_size=batch_size)\n",
    "print('Test score:', score)\n",
    "print('Test accuracy:', acc)"
   ]
  },
  {
   "cell_type": "code",
   "execution_count": 21,
   "metadata": {},
   "outputs": [
    {
     "name": "stdout",
     "output_type": "stream",
     "text": [
      "Loading data...\n"
     ]
    },
    {
     "name": "stderr",
     "output_type": "stream",
     "text": [
      "/usr/local/lib/python3.5/dist-packages/keras/datasets/imdb.py:44: UserWarning: The `nb_words` argument in `load_data` has been renamed `num_words`.\n",
      "  warnings.warn('The `nb_words` argument in `load_data` '\n"
     ]
    },
    {
     "name": "stdout",
     "output_type": "stream",
     "text": [
      "25000 train sequences\n",
      "25000 test sequences\n",
      "[1, 14, 22, 16, 43, 530, 973, 1622, 1385, 65, 458, 4468, 66, 3941, 4, 173, 36, 256, 5, 25, 100, 43, 838, 112, 50, 670, 2, 9, 35, 480, 284, 5, 150, 4, 172, 112, 167, 2, 336, 385, 39, 4, 172, 4536, 1111, 17, 546, 38, 13, 447, 4, 192, 50, 16, 6, 147, 2025, 19, 14, 22, 4, 1920, 4613, 469, 4, 22, 71, 87, 12, 16, 43, 530, 38, 76, 15, 13, 1247, 4, 22, 17, 515, 17, 12, 16, 626, 18, 19193, 5, 62, 386, 12, 8, 316, 8, 106, 5, 4, 2223, 5244, 16, 480, 66, 3785, 33, 4, 130, 12, 16, 38, 619, 5, 25, 124, 51, 36, 135, 48, 25, 1415, 33, 6, 22, 12, 215, 28, 77, 52, 5, 14, 407, 16, 82, 10311, 8, 4, 107, 117, 5952, 15, 256, 4, 2, 7, 3766, 5, 723, 36, 71, 43, 530, 476, 26, 400, 317, 46, 7, 4, 12118, 1029, 13, 104, 88, 4, 381, 15, 297, 98, 32, 2071, 56, 26, 141, 6, 194, 7486, 18, 4, 226, 22, 21, 134, 476, 26, 480, 5, 144, 30, 5535, 18, 51, 36, 28, 224, 92, 25, 104, 4, 226, 65, 16, 38, 1334, 88, 12, 16, 283, 5, 16, 4472, 113, 103, 32, 15, 16, 5345, 19, 178, 32]\n",
      "Pad sequences (samples x time)\n",
      "X_train shape: (25000, 80)\n",
      "X_test shape: (25000, 80)\n",
      "Build model...\n",
      "Train...\n"
     ]
    },
    {
     "name": "stderr",
     "output_type": "stream",
     "text": [
      "/usr/local/lib/python3.5/dist-packages/ipykernel_launcher.py:19: UserWarning: The `dropout` argument is no longer support in `Embedding`. You can apply a `keras.layers.SpatialDropout1D` layer right after the `Embedding` layer to get the same behavior.\n",
      "/usr/local/lib/python3.5/dist-packages/ipykernel_launcher.py:27: UserWarning: Update your `Model` call to the Keras 2 API: `Model(outputs=Tensor(\"ac..., inputs=Tensor(\"in...)`\n",
      "/usr/local/lib/python3.5/dist-packages/ipykernel_launcher.py:34: UserWarning: The `nb_epoch` argument in `fit` has been renamed `epochs`.\n"
     ]
    },
    {
     "name": "stdout",
     "output_type": "stream",
     "text": [
      "Train on 25000 samples, validate on 25000 samples\n",
      "Epoch 1/15\n",
      "25000/25000 [==============================] - 27s 1ms/step - loss: 0.4512 - acc: 0.7860 - val_loss: 0.3522 - val_acc: 0.8416\n",
      "Epoch 2/15\n",
      "25000/25000 [==============================] - 22s 874us/step - loss: 0.1753 - acc: 0.9381 - val_loss: 0.3663 - val_acc: 0.8399\n",
      "Epoch 3/15\n",
      "25000/25000 [==============================] - 22s 871us/step - loss: 0.0361 - acc: 0.9962 - val_loss: 0.4075 - val_acc: 0.8378\n",
      "Epoch 4/15\n",
      "25000/25000 [==============================] - 22s 870us/step - loss: 0.0083 - acc: 0.9998 - val_loss: 0.4373 - val_acc: 0.8397\n",
      "Epoch 5/15\n",
      "25000/25000 [==============================] - 22s 870us/step - loss: 0.0035 - acc: 1.0000 - val_loss: 0.4659 - val_acc: 0.8402\n",
      "Epoch 6/15\n",
      "25000/25000 [==============================] - 22s 868us/step - loss: 0.0017 - acc: 1.0000 - val_loss: 0.4905 - val_acc: 0.8402\n",
      "Epoch 7/15\n",
      "25000/25000 [==============================] - 22s 869us/step - loss: 9.7112e-04 - acc: 1.0000 - val_loss: 0.5144 - val_acc: 0.8395\n",
      "Epoch 8/15\n",
      "25000/25000 [==============================] - 26s 1ms/step - loss: 5.8999e-04 - acc: 1.0000 - val_loss: 0.5377 - val_acc: 0.8387\n",
      "Epoch 9/15\n",
      "25000/25000 [==============================] - 31s 1ms/step - loss: 3.5086e-04 - acc: 1.0000 - val_loss: 0.5596 - val_acc: 0.8387\n",
      "Epoch 10/15\n",
      "25000/25000 [==============================] - 30s 1ms/step - loss: 2.1722e-04 - acc: 1.0000 - val_loss: 0.5818 - val_acc: 0.8389\n",
      "Epoch 11/15\n",
      "25000/25000 [==============================] - 31s 1ms/step - loss: 1.3658e-04 - acc: 1.0000 - val_loss: 0.6033 - val_acc: 0.8383\n",
      "Epoch 12/15\n",
      "25000/25000 [==============================] - 31s 1ms/step - loss: 8.6689e-05 - acc: 1.0000 - val_loss: 0.6247 - val_acc: 0.8386\n",
      "Epoch 13/15\n",
      "25000/25000 [==============================] - 31s 1ms/step - loss: 5.5204e-05 - acc: 1.0000 - val_loss: 0.6455 - val_acc: 0.8381\n",
      "Epoch 14/15\n",
      "25000/25000 [==============================] - 30s 1ms/step - loss: 3.5382e-05 - acc: 1.0000 - val_loss: 0.6671 - val_acc: 0.8376\n",
      "Epoch 15/15\n",
      "25000/25000 [==============================] - 31s 1ms/step - loss: 2.2823e-05 - acc: 1.0000 - val_loss: 0.6873 - val_acc: 0.8368\n",
      "25000/25000 [==============================] - 1s 45us/step\n",
      "Test score: 0.6872975438570976\n",
      "Test accuracy: 0.83676\n"
     ]
    }
   ],
   "source": [
    "print('Loading data...')\n",
    "(X_train, y_train), (X_test, y_test) = imdb.load_data(nb_words=max_features)\n",
    "print(len(X_train), 'train sequences')\n",
    "print(len(X_test), 'test sequences')\n",
    "\n",
    "print (X_train[0])\n",
    "\n",
    "print('Pad sequences (samples x time)')\n",
    "X_train = sequence.pad_sequences(X_train, maxlen=maxlen)\n",
    "X_test = sequence.pad_sequences(X_test, maxlen=maxlen)\n",
    "print('X_train shape:', X_train.shape)\n",
    "print('X_test shape:', X_test.shape)\n",
    "\n",
    "print('Build model...')\n",
    "\n",
    "\n",
    "inputs = Input(shape=(maxlen,))\n",
    "x = inputs\n",
    "x = Embedding(max_features, 128, dropout=0.2)(x)\n",
    "conv = tf.layers.conv1d(inputs=x, filters=32, kernel_size=[3], padding=\"same\", activation=tf.nn.relu)\n",
    "pool = tf.layers.max_pooling1d(inputs=x, pool_size=[2], strides = 2)\n",
    "x = Flatten()(x)\n",
    "x = Dense(1)(x)\n",
    "predictions = Activation(\"sigmoid\")(x)\n",
    "\n",
    "\n",
    "model = Model(input=inputs, output=predictions)\n",
    "model.compile(loss='binary_crossentropy',\n",
    "              optimizer='adam',\n",
    "              metrics=['accuracy'])\n",
    "\n",
    "print('Train...')\n",
    "model.fit(X_train, y_train, batch_size=batch_size, nb_epoch=15,\n",
    "          validation_data=(X_test, y_test))\n",
    "score, acc = model.evaluate(X_test, y_test,\n",
    "                            batch_size=batch_size)\n",
    "print('Test score:', score)\n",
    "print('Test accuracy:', acc)"
   ]
  },
  {
   "cell_type": "code",
   "execution_count": null,
   "metadata": {},
   "outputs": [
    {
     "name": "stdout",
     "output_type": "stream",
     "text": [
      "Loading data...\n"
     ]
    },
    {
     "name": "stderr",
     "output_type": "stream",
     "text": [
      "/usr/local/lib/python3.5/dist-packages/keras/datasets/imdb.py:44: UserWarning: The `nb_words` argument in `load_data` has been renamed `num_words`.\n",
      "  warnings.warn('The `nb_words` argument in `load_data` '\n"
     ]
    },
    {
     "name": "stdout",
     "output_type": "stream",
     "text": [
      "25000 train sequences\n",
      "25000 test sequences\n",
      "[1, 14, 22, 16, 43, 530, 973, 1622, 1385, 65, 458, 4468, 66, 3941, 4, 173, 36, 256, 5, 25, 100, 43, 838, 112, 50, 670, 2, 9, 35, 480, 284, 5, 150, 4, 172, 112, 167, 2, 336, 385, 39, 4, 172, 4536, 1111, 17, 546, 38, 13, 447, 4, 192, 50, 16, 6, 147, 2025, 19, 14, 22, 4, 1920, 4613, 469, 4, 22, 71, 87, 12, 16, 43, 530, 38, 76, 15, 13, 1247, 4, 22, 17, 515, 17, 12, 16, 626, 18, 19193, 5, 62, 386, 12, 8, 316, 8, 106, 5, 4, 2223, 5244, 16, 480, 66, 3785, 33, 4, 130, 12, 16, 38, 619, 5, 25, 124, 51, 36, 135, 48, 25, 1415, 33, 6, 22, 12, 215, 28, 77, 52, 5, 14, 407, 16, 82, 10311, 8, 4, 107, 117, 5952, 15, 256, 4, 2, 7, 3766, 5, 723, 36, 71, 43, 530, 476, 26, 400, 317, 46, 7, 4, 12118, 1029, 13, 104, 88, 4, 381, 15, 297, 98, 32, 2071, 56, 26, 141, 6, 194, 7486, 18, 4, 226, 22, 21, 134, 476, 26, 480, 5, 144, 30, 5535, 18, 51, 36, 28, 224, 92, 25, 104, 4, 226, 65, 16, 38, 1334, 88, 12, 16, 283, 5, 16, 4472, 113, 103, 32, 15, 16, 5345, 19, 178, 32]\n",
      "Pad sequences (samples x time)\n",
      "X_train shape: (25000, 80)\n",
      "X_test shape: (25000, 80)\n",
      "Build model...\n",
      "Train...\n"
     ]
    },
    {
     "name": "stderr",
     "output_type": "stream",
     "text": [
      "/usr/local/lib/python3.5/dist-packages/ipykernel_launcher.py:19: UserWarning: The `dropout` argument is no longer support in `Embedding`. You can apply a `keras.layers.SpatialDropout1D` layer right after the `Embedding` layer to get the same behavior.\n",
      "/usr/local/lib/python3.5/dist-packages/ipykernel_launcher.py:27: UserWarning: Update your `Model` call to the Keras 2 API: `Model(outputs=Tensor(\"ac..., inputs=Tensor(\"in...)`\n",
      "/usr/local/lib/python3.5/dist-packages/ipykernel_launcher.py:34: UserWarning: The `nb_epoch` argument in `fit` has been renamed `epochs`.\n"
     ]
    },
    {
     "name": "stdout",
     "output_type": "stream",
     "text": [
      "Train on 25000 samples, validate on 25000 samples\n",
      "Epoch 1/15\n",
      "25000/25000 [==============================] - 30s 1ms/step - loss: 0.4512 - acc: 0.7858 - val_loss: 0.3522 - val_acc: 0.8416\n",
      "Epoch 2/15\n",
      "25000/25000 [==============================] - 29s 1ms/step - loss: 0.1753 - acc: 0.9382 - val_loss: 0.3663 - val_acc: 0.8400\n",
      "Epoch 3/15\n",
      "25000/25000 [==============================] - 30s 1ms/step - loss: 0.0361 - acc: 0.9962 - val_loss: 0.4075 - val_acc: 0.8378\n",
      "Epoch 4/15\n",
      "25000/25000 [==============================] - 30s 1ms/step - loss: 0.0083 - acc: 0.9998 - val_loss: 0.4373 - val_acc: 0.8397\n",
      "Epoch 5/15\n",
      "25000/25000 [==============================] - 30s 1ms/step - loss: 0.0035 - acc: 1.0000 - val_loss: 0.4658 - val_acc: 0.8401\n",
      "Epoch 6/15\n",
      "25000/25000 [==============================] - 30s 1ms/step - loss: 0.0017 - acc: 1.0000 - val_loss: 0.4905 - val_acc: 0.8401\n",
      "Epoch 7/15\n",
      "25000/25000 [==============================] - 30s 1ms/step - loss: 9.7080e-04 - acc: 1.0000 - val_loss: 0.5144 - val_acc: 0.8394\n",
      "Epoch 8/15\n",
      "25000/25000 [==============================] - 31s 1ms/step - loss: 5.8975e-04 - acc: 1.0000 - val_loss: 0.5377 - val_acc: 0.8388\n",
      "Epoch 9/15\n",
      "25000/25000 [==============================] - 30s 1ms/step - loss: 3.5075e-04 - acc: 1.0000 - val_loss: 0.5596 - val_acc: 0.8387\n",
      "Epoch 10/15\n",
      "25000/25000 [==============================] - 30s 1ms/step - loss: 2.1716e-04 - acc: 1.0000 - val_loss: 0.5817 - val_acc: 0.8388\n",
      "Epoch 11/15\n",
      "25000/25000 [==============================] - 31s 1ms/step - loss: 1.3655e-04 - acc: 1.0000 - val_loss: 0.6032 - val_acc: 0.8384\n",
      "Epoch 12/15\n",
      "25000/25000 [==============================] - 31s 1ms/step - loss: 8.6666e-05 - acc: 1.0000 - val_loss: 0.6247 - val_acc: 0.8386\n",
      "Epoch 13/15\n",
      "25000/25000 [==============================] - 30s 1ms/step - loss: 5.5189e-05 - acc: 1.0000 - val_loss: 0.6454 - val_acc: 0.8382\n",
      "Epoch 14/15\n",
      " 6432/25000 [======>.......................] - ETA: 21s - loss: 3.7872e-05 - acc: 1.0000"
     ]
    }
   ],
   "source": [
    "print('Loading data...')\n",
    "(X_train, y_train), (X_test, y_test) = imdb.load_data(nb_words=max_features)\n",
    "print(len(X_train), 'train sequences')\n",
    "print(len(X_test), 'test sequences')\n",
    "\n",
    "print (X_train[0])\n",
    "\n",
    "print('Pad sequences (samples x time)')\n",
    "X_train = sequence.pad_sequences(X_train, maxlen=maxlen)\n",
    "X_test = sequence.pad_sequences(X_test, maxlen=maxlen)\n",
    "print('X_train shape:', X_train.shape)\n",
    "print('X_test shape:', X_test.shape)\n",
    "\n",
    "print('Build model...')\n",
    "\n",
    "\n",
    "inputs = Input(shape=(maxlen,))\n",
    "x = inputs\n",
    "x = Embedding(max_features, 128, dropout=0.2)(x)\n",
    "lstm = tf.contrib.rnn.BasicLSTMCell(32)\n",
    "pool = tf.layers.max_pooling1d(inputs=x, pool_size=[2], strides = 2)\n",
    "x = Flatten()(x)\n",
    "x = Dense(1)(x)\n",
    "predictions = Activation(\"sigmoid\")(x)\n",
    "\n",
    "\n",
    "model = Model(input=inputs, output=predictions)\n",
    "model.compile(loss='binary_crossentropy',\n",
    "              optimizer='adam',\n",
    "              metrics=['accuracy'])\n",
    "\n",
    "print('Train...')\n",
    "model.fit(X_train, y_train, batch_size=batch_size, nb_epoch=15,\n",
    "          validation_data=(X_test, y_test))\n",
    "score, acc = model.evaluate(X_test, y_test,\n",
    "                            batch_size=batch_size)\n",
    "print('Test score:', score)\n",
    "print('Test accuracy:', acc)"
   ]
  },
  {
   "cell_type": "code",
   "execution_count": null,
   "metadata": {},
   "outputs": [],
   "source": []
  }
 ],
 "metadata": {
  "kernelspec": {
   "display_name": "Python 3",
   "language": "python",
   "name": "python3"
  },
  "language_info": {
   "codemirror_mode": {
    "name": "ipython",
    "version": 3
   },
   "file_extension": ".py",
   "mimetype": "text/x-python",
   "name": "python",
   "nbconvert_exporter": "python",
   "pygments_lexer": "ipython3",
   "version": "3.5.2"
  }
 },
 "nbformat": 4,
 "nbformat_minor": 2
}
